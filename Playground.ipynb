{
 "cells": [
  {
   "cell_type": "code",
   "execution_count": 1,
   "id": "fba7ff2b",
   "metadata": {},
   "outputs": [],
   "source": [
    "import numpy as np\n",
    "import torch\n",
    "import matplotlib.pyplot as plt"
   ]
  },
  {
   "cell_type": "code",
   "execution_count": 3,
   "id": "3353cddb",
   "metadata": {},
   "outputs": [],
   "source": [
    "p = 10\n",
    "a = 10\n",
    "epochs = 20_000\n",
    "n_t = 6\n",
    "n_s = 6\n",
    "n_t_rf = 6\n",
    "v_bb_np = np.random.randn(n_t_rf, n_s) + 1.j * np.random.randn(n_t_rf, n_s)\n",
    "v_rf_np = np.random.randn(n_t_rf, n_s) + 1.j * np.random.randn(n_t_rf, n_s)"
   ]
  },
  {
   "cell_type": "code",
   "execution_count": 57,
   "id": "f95bf42b",
   "metadata": {},
   "outputs": [
    {
     "data": {
      "text/plain": [
       "6"
      ]
     },
     "execution_count": 57,
     "metadata": {},
     "output_type": "execute_result"
    }
   ],
   "source": [
    "x = np.random.randn(n_s, 1) + 1.j * np.random.randn(n_s, 1)\n",
    "len(x)"
   ]
  },
  {
   "cell_type": "code",
   "execution_count": 53,
   "id": "478e00ae",
   "metadata": {},
   "outputs": [
    {
     "data": {
      "text/plain": [
       "array([[ 5.58631744+0.j        ,  4.60471328-1.40024603j,\n",
       "        -0.99232879+0.02801696j, -2.32741988+1.76431397j,\n",
       "        -1.33578515-0.91966384j, -2.45722792+1.59497781j],\n",
       "       [ 4.60471328+1.40024603j,  4.14657305+0.j        ,\n",
       "        -0.82498359-0.22563959j, -2.360692  +0.87091354j,\n",
       "        -0.87054702-1.09288744j, -2.42524553+0.69879521j],\n",
       "       [-0.99232879-0.02801696j, -0.82498359+0.22563959j,\n",
       "         0.17641342+0.j        ,  0.42228114-0.30173228j,\n",
       "         0.23267061+0.17006437j,  0.44449039-0.27100113j],\n",
       "       [-2.32741988-1.76431397j, -2.360692  -0.87091354j,\n",
       "         0.42228114+0.30173228j,  1.52688908+0.j        ,\n",
       "         0.26607102+0.8050363j ,  1.52748977+0.11154727j],\n",
       "       [-1.33578515+0.91966384j, -0.87054702+1.09288744j,\n",
       "         0.23267061-0.17006437j,  0.26607102-0.8050363j ,\n",
       "         0.47081169+0.j        ,  0.32498782-0.78591512j],\n",
       "       [-2.45722792-1.59497781j, -2.42524553-0.69879521j,\n",
       "         0.44449039+0.27100113j,  1.52748977-0.11154727j,\n",
       "         0.32498782+0.78591512j,  1.53623981+0.j        ]])"
      ]
     },
     "execution_count": 53,
     "metadata": {},
     "output_type": "execute_result"
    }
   ],
   "source": [
    "x_h = np.conjugate(x.T)\n",
    "e = x @ x_h\n",
    "x.shape, x_h.shape, e.shape\n",
    "e"
   ]
  },
  {
   "cell_type": "code",
   "execution_count": 25,
   "id": "d30aa844",
   "metadata": {},
   "outputs": [
    {
     "data": {
      "text/plain": [
       "array([-1.03706383,  2.25253468,  0.8986551 ,  0.645868  , -1.10503888,\n",
       "       -1.44029431, -1.00544302, -0.19932236, -2.08376617, -0.14306814,\n",
       "       -0.69612858, -0.23744182,  0.6491041 , -1.53246247,  0.01000787,\n",
       "        0.26616946, -0.7214835 ,  1.14361478,  0.70676741,  0.15469973,\n",
       "       -0.72763227,  0.99712208, -0.65931373, -0.5805754 , -0.71762356,\n",
       "       -1.82294461, -0.79339756,  0.31705508,  1.58367802,  0.11699612,\n",
       "        0.19466036, -0.48870666, -0.55796901,  0.54107478, -0.18457285,\n",
       "       -0.37129372])"
      ]
     },
     "execution_count": 25,
     "metadata": {},
     "output_type": "execute_result"
    }
   ],
   "source": [
    "v_bb_np.flatten().imag"
   ]
  },
  {
   "cell_type": "code",
   "execution_count": 26,
   "id": "6351016b",
   "metadata": {},
   "outputs": [],
   "source": [
    "def flat_real_imag(arr: np.ndarray):\n",
    "    f = arr.flatten()\n",
    "    return f.real, f.imag"
   ]
  },
  {
   "cell_type": "code",
   "execution_count": 31,
   "id": "c725e708",
   "metadata": {},
   "outputs": [],
   "source": [
    "def get_state(v_bb: np.ndarray, w_rf: np.ndarray):\n",
    "    return np.concatenate([*flat_real_imag(v_bb), *flat_real_imag(v_bb)])"
   ]
  },
  {
   "cell_type": "code",
   "execution_count": 32,
   "id": "a7f7f3dd",
   "metadata": {},
   "outputs": [
    {
     "data": {
      "text/plain": [
       "array([ 0.4460873 ,  1.5255541 , -1.1319971 , -0.18493727, -0.12071718,\n",
       "       -2.2647111 ,  1.0497689 , -0.17096573, -0.9410859 , -2.2242413 ,\n",
       "       -1.3178209 , -0.0877995 ,  0.29217592, -2.1763968 , -0.2229299 ,\n",
       "       -0.13722308,  0.34303504,  0.35447958,  0.8836703 , -2.2909994 ,\n",
       "       -1.7520922 , -0.77110964,  0.69725233, -0.68626   ,  0.64855576,\n",
       "       -0.23175158,  0.877162  , -0.48805836,  0.17112899, -0.37518507,\n",
       "        1.2338338 , -1.567395  ,  0.38419798, -0.43518013, -1.5562775 ,\n",
       "       -0.8371242 , -1.0370638 ,  2.2525346 ,  0.8986551 ,  0.645868  ,\n",
       "       -1.1050389 , -1.4402943 , -1.005443  , -0.19932236, -2.0837662 ,\n",
       "       -0.14306813, -0.6961286 , -0.23744182,  0.6491041 , -1.5324625 ,\n",
       "        0.01000787,  0.26616946, -0.7214835 ,  1.1436148 ,  0.70676744,\n",
       "        0.15469973, -0.7276323 ,  0.9971221 , -0.65931374, -0.5805754 ,\n",
       "       -0.71762353, -1.8229446 , -0.79339755,  0.31705508,  1.583678  ,\n",
       "        0.11699612,  0.19466037, -0.48870668, -0.55796903,  0.54107475,\n",
       "       -0.18457285, -0.37129372,  0.4460873 ,  1.5255541 , -1.1319971 ,\n",
       "       -0.18493727, -0.12071718, -2.2647111 ,  1.0497689 , -0.17096573,\n",
       "       -0.9410859 , -2.2242413 , -1.3178209 , -0.0877995 ,  0.29217592,\n",
       "       -2.1763968 , -0.2229299 , -0.13722308,  0.34303504,  0.35447958,\n",
       "        0.8836703 , -2.2909994 , -1.7520922 , -0.77110964,  0.69725233,\n",
       "       -0.68626   ,  0.64855576, -0.23175158,  0.877162  , -0.48805836,\n",
       "        0.17112899, -0.37518507,  1.2338338 , -1.567395  ,  0.38419798,\n",
       "       -0.43518013, -1.5562775 , -0.8371242 , -1.0370638 ,  2.2525346 ,\n",
       "        0.8986551 ,  0.645868  , -1.1050389 , -1.4402943 , -1.005443  ,\n",
       "       -0.19932236, -2.0837662 , -0.14306813, -0.6961286 , -0.23744182,\n",
       "        0.6491041 , -1.5324625 ,  0.01000787,  0.26616946, -0.7214835 ,\n",
       "        1.1436148 ,  0.70676744,  0.15469973, -0.7276323 ,  0.9971221 ,\n",
       "       -0.65931374, -0.5805754 , -0.71762353, -1.8229446 , -0.79339755,\n",
       "        0.31705508,  1.583678  ,  0.11699612,  0.19466037, -0.48870668,\n",
       "       -0.55796903,  0.54107475, -0.18457285, -0.37129372], dtype=float32)"
      ]
     },
     "execution_count": 32,
     "metadata": {},
     "output_type": "execute_result"
    }
   ],
   "source": [
    "get_state(v_bb, v_bb)"
   ]
  },
  {
   "cell_type": "code",
   "execution_count": 5,
   "id": "b4e80579",
   "metadata": {},
   "outputs": [],
   "source": [
    "v_bb = torch.tensor(v_bb_np, dtype=torch.cfloat)"
   ]
  },
  {
   "cell_type": "code",
   "execution_count": 9,
   "id": "ea98765e",
   "metadata": {},
   "outputs": [
    {
     "data": {
      "text/plain": [
       "tensor([[1.0000, 1.0000, 1.0000, 1.0000, 1.0000, 1.0000],\n",
       "        [1.0000, 1.0000, 1.0000, 1.0000, 1.0000, 1.0000],\n",
       "        [1.0000, 1.0000, 1.0000, 1.0000, 1.0000, 1.0000],\n",
       "        [1.0000, 1.0000, 1.0000, 1.0000, 1.0000, 1.0000],\n",
       "        [1.0000, 1.0000, 1.0000, 1.0000, 1.0000, 1.0000],\n",
       "        [1.0000, 1.0000, 1.0000, 1.0000, 1.0000, 1.0000]])"
      ]
     },
     "execution_count": 9,
     "metadata": {},
     "output_type": "execute_result"
    }
   ],
   "source": [
    "(v_bb / v_bb.abs()).abs()"
   ]
  },
  {
   "cell_type": "code",
   "execution_count": 91,
   "id": "08b9dddf",
   "metadata": {},
   "outputs": [],
   "source": [
    "def h(x: torch.tensor) -> torch.tensor:\n",
    "    return torch.conj(x.transpose(1, 0))\n",
    "\n",
    "def constraint(v_rf: torch.tensor, v_bb: torch.tensor) -> torch.tensor:\n",
    "    t1 = torch.matmul(v_rf, v_bb)\n",
    "    t2 = torch.matmul(t1, h(v_bb))\n",
    "    t3 = torch.matmul(t2, h(v_rf))\n",
    "    tr = torch.trace(t3)\n",
    "    return tr\n",
    "\n",
    "def find_v_rf(v_rf: np.ndarray, v_bb: np.ndarray, p: float, a: float, epochs: int):\n",
    "    p -= p / a\n",
    "    v_bb = torch.tensor(v_bb, dtype=torch.cfloat)\n",
    "    v_rf = torch.tensor(v_rf, dtype=torch.cfloat).requires_grad_()\n",
    "    losses = []\n",
    "    optimizer = torch.optim.Adam([v_rf])\n",
    "    for i in range(epochs):\n",
    "        optimizer.zero_grad()\n",
    "        loss = ((constraint(v_rf, v_bb) - p) ** 2).mean()\n",
    "        loss.backward()\n",
    "        optimizer.step()\n",
    "        losses.append(loss.item())\n",
    "\n",
    "    del optimizer\n",
    "    return v_rf.detach(), v_bb, losses\n",
    "\n",
    "def plot_loss(v_rf, v_bb, err, start=0):\n",
    "    y = err[-start:]\n",
    "    l = len(err) - start\n",
    "    x = list(range(len(y)))\n",
    "    c = constraint(v_rf, v_bb).item()\n",
    "    title = f\"LOSS | $ Constraint = {round(c.real, 4)} + j{round(c.imag, 4)} $ | last {l}\"\n",
    "    fig, ax = plt.subplots(dpi=200);\n",
    "    ax.plot(x, np.real(y), label=\"$ Real(loss) $\");\n",
    "    ax.plot(x, np.imag(y), label=\"$ Imag(loss) $\");\n",
    "    ax.set_title(title);\n",
    "    ax.grid();\n",
    "    ax.legend();\n",
    "    return fig"
   ]
  },
  {
   "cell_type": "code",
   "execution_count": null,
   "id": "b3f3c35f",
   "metadata": {},
   "outputs": [],
   "source": []
  },
  {
   "cell_type": "code",
   "execution_count": null,
   "id": "e64ab4f7",
   "metadata": {},
   "outputs": [],
   "source": []
  }
 ],
 "metadata": {
  "interpreter": {
   "hash": "1d5c1156327dacead463cc502c55ebae8ce9c8c01979cf154173ff808e75bf55"
  },
  "kernelspec": {
   "display_name": "Python 3 (ipykernel)",
   "language": "python",
   "name": "python3"
  },
  "language_info": {
   "codemirror_mode": {
    "name": "ipython",
    "version": 3
   },
   "file_extension": ".py",
   "mimetype": "text/x-python",
   "name": "python",
   "nbconvert_exporter": "python",
   "pygments_lexer": "ipython3",
   "version": "3.9.7"
  }
 },
 "nbformat": 4,
 "nbformat_minor": 5
}
